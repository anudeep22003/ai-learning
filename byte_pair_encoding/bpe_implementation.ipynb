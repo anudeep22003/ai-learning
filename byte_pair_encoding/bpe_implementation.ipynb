{
 "cells": [
  {
   "cell_type": "markdown",
   "id": "5735ce81-fc78-4ded-a842-1b0be13e44c1",
   "metadata": {},
   "source": [
    "# Byte Pair Encoding \n",
    "## Implementing the algorithm to better understand the moving parts\n",
    "\n",
    "BPE does the follow steps recursively until the required vocab size is reached\n",
    "- pre-tokenize to get individual words\n",
    "- pad both sides of the word with `\\w` \n",
    "- compute frequencies of pairs, the pair with the highest frequency gets merged into a single token and gets added to the dictionary \n",
    "\n",
    "### Data structures\n",
    "- vocab: the set of unique tokens, needs to be updated after every new merge rule\n",
    "- corpus: the set of tokenized words with their frequency "
   ]
  },
  {
   "cell_type": "code",
   "execution_count": 18,
   "id": "212349b5-ef9e-4e8d-9d16-1e8eb6bb855a",
   "metadata": {},
   "outputs": [],
   "source": [
    "from collections import Counter"
   ]
  },
  {
   "cell_type": "code",
   "execution_count": 20,
   "id": "258b3d00-60bb-4d8e-a152-97fd3dc04552",
   "metadata": {},
   "outputs": [],
   "source": [
    "lang = \"\"\"\n",
    "I am the a hero. \n",
    "I am looking for a villain because I am bored. \n",
    "What is the point of being a hero if there is no villain. \n",
    "Then all I am is a person, and that is not fun enough. \n",
    "So, villain, where are you?\n",
    "\"\"\""
   ]
  },
  {
   "cell_type": "code",
   "execution_count": 42,
   "id": "2c191402-b233-4cac-ab7c-563f4714d334",
   "metadata": {},
   "outputs": [],
   "source": [
    "def pad_word_with_start_token(word:list):\n",
    "    if word is None:\n",
    "        return None\n",
    "    else:\n",
    "        return word + '#'\n",
    "    \n",
    "# removed punctuations\n",
    "def remove_punctuation(word:list, punct:list = punct):\n",
    "    if len(word)==0:\n",
    "        return None\n",
    "    \n",
    "    if word[0] in punct:\n",
    "        word = word.replace(word[0],'')\n",
    "    if word[-1] in punct:\n",
    "        word = word.replace(word[-1],'')\n",
    "        \n",
    "    word = pad_word_with_start_token(word)\n",
    "    return word"
   ]
  },
  {
   "cell_type": "code",
   "execution_count": 51,
   "id": "03fe0a92-12aa-4feb-b522-47cfc9c21d86",
   "metadata": {},
   "outputs": [
    {
     "data": {
      "text/plain": [
       "Counter({'i#': 1,\n",
       "         'am': 1,\n",
       "         'm#': 1,\n",
       "         'th': 4,\n",
       "         'he': 5,\n",
       "         'e#': 5,\n",
       "         'a#': 1,\n",
       "         'er': 4,\n",
       "         'ro': 1,\n",
       "         'o#': 3,\n",
       "         'lo': 1,\n",
       "         'oo': 1,\n",
       "         'ok': 1,\n",
       "         'ki': 1,\n",
       "         'in': 4,\n",
       "         'ng': 2,\n",
       "         'g#': 2,\n",
       "         'fo': 1,\n",
       "         'or': 2,\n",
       "         'r#': 1,\n",
       "         'vi': 1,\n",
       "         'il': 1,\n",
       "         'll': 2,\n",
       "         'la': 1,\n",
       "         'ai': 1,\n",
       "         'n#': 4,\n",
       "         'be': 2,\n",
       "         'ec': 1,\n",
       "         'ca': 1,\n",
       "         'au': 1,\n",
       "         'us': 1,\n",
       "         'se': 1,\n",
       "         'bo': 1,\n",
       "         're': 4,\n",
       "         'ed': 1,\n",
       "         'd#': 2,\n",
       "         'wh': 2,\n",
       "         'ha': 2,\n",
       "         'at': 2,\n",
       "         't#': 4,\n",
       "         'is': 1,\n",
       "         's#': 1,\n",
       "         'po': 1,\n",
       "         'oi': 1,\n",
       "         'nt': 1,\n",
       "         'of': 1,\n",
       "         'f#': 2,\n",
       "         'ei': 1,\n",
       "         'if': 1,\n",
       "         'no': 3,\n",
       "         'en': 2,\n",
       "         'al': 1,\n",
       "         'l#': 1,\n",
       "         'pe': 1,\n",
       "         'rs': 1,\n",
       "         'so': 2,\n",
       "         'on': 1,\n",
       "         'an': 1,\n",
       "         'nd': 1,\n",
       "         'ot': 1,\n",
       "         'fu': 1,\n",
       "         'un': 1,\n",
       "         'ou': 2,\n",
       "         'ug': 1,\n",
       "         'gh': 1,\n",
       "         'h#': 1,\n",
       "         'ar': 1,\n",
       "         'yo': 1,\n",
       "         'u#': 1})"
      ]
     },
     "execution_count": 51,
     "metadata": {},
     "output_type": "execute_result"
    }
   ],
   "source": [
    "punct = list(\".?,!\")\n",
    "tokens = [remove_punctuation(w) for w in lang.lower().split()]\n",
    "corpus = Counter(tokens)\n",
    "tokenized_corpus = Counter()\n",
    "\n",
    "for word in corpus.keys():\n",
    "    tokenized_corpus.update(word)\n",
    "\n",
    "corpus, tokenized_corpus\n",
    "\n",
    "iter_frequencies = Counter()\n",
    "\n",
    "for w in corpus:\n",
    "    for merged_token in zip(w,w[1:]):\n",
    "        merged_token = \"\".join(merged_token)\n",
    "        iter_frequencies.update([merged_token])\n",
    "for byte_pair in iter_frequencies.most_common(1):\n",
    "    # add the pair to the tokenized_corpus \n",
    "    # remove the counts from the framgments of the byte pair, remove entry if count goes to 0\n",
    "    ...\n",
    "    "
   ]
  },
  {
   "cell_type": "code",
   "execution_count": 15,
   "id": "f6349e7c-747e-4aae-9184-c5b820c88537",
   "metadata": {},
   "outputs": [
    {
     "data": {
      "text/plain": [
       "'allo.'"
      ]
     },
     "execution_count": 15,
     "metadata": {},
     "output_type": "execute_result"
    }
   ],
   "source": [
    "a = \"allo.\"\n",
    "a.replace(a[-1],\"\")\n"
   ]
  }
 ],
 "metadata": {
  "kernelspec": {
   "display_name": "(ai-playground)",
   "language": "python",
   "name": "ai-playground"
  },
  "language_info": {
   "codemirror_mode": {
    "name": "ipython",
    "version": 3
   },
   "file_extension": ".py",
   "mimetype": "text/x-python",
   "name": "python",
   "nbconvert_exporter": "python",
   "pygments_lexer": "ipython3",
   "version": "3.10.8"
  }
 },
 "nbformat": 4,
 "nbformat_minor": 5
}
